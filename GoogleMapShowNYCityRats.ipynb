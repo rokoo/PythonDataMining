{
 "cells": [
  {
   "cell_type": "markdown",
   "metadata": {},
   "source": [
    "### http://codeouts.com/rats-100k-nyc-rodent-reports-2010-16/"
   ]
  },
  {
   "cell_type": "code",
   "execution_count": 2,
   "metadata": {},
   "outputs": [],
   "source": [
    "import gmplot\n",
    "import numpy as np\n",
    "import pandas as pd\n",
    "data = pd.read_csv('rats.csv')\n",
    "x = data['Latitude'][0:100000]\n",
    "y = data['Longitude'][0:100000]\n",
    "x = x[np.logical_not(np.isnan(x))]\n",
    "y = y[np.logical_not(np.isnan(y))]\n",
    "gmap = gmplot.GoogleMapPlotter(x[0], y[0], 10)\n",
    "gmap.heatmap(x, y)\n",
    "gmap.draw(\"x2.html\")"
   ]
  }
 ],
 "metadata": {
  "kernelspec": {
   "display_name": "Python 3",
   "language": "python",
   "name": "python3"
  },
  "language_info": {
   "codemirror_mode": {
    "name": "ipython",
    "version": 3
   },
   "file_extension": ".py",
   "mimetype": "text/x-python",
   "name": "python",
   "nbconvert_exporter": "python",
   "pygments_lexer": "ipython3",
   "version": "3.5.4"
  }
 },
 "nbformat": 4,
 "nbformat_minor": 2
}
